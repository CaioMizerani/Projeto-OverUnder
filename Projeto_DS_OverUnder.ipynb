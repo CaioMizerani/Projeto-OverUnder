{
  "nbformat": 4,
  "nbformat_minor": 0,
  "metadata": {
    "colab": {
      "provenance": []
    },
    "kernelspec": {
      "name": "python3",
      "display_name": "Python 3"
    },
    "language_info": {
      "name": "python"
    }
  },
  "cells": [
    {
      "cell_type": "markdown",
      "source": [
        "# Preliminares"
      ],
      "metadata": {
        "id": "nzp2wQATozcP"
      }
    },
    {
      "cell_type": "code",
      "execution_count": null,
      "metadata": {
        "id": "lNeavSZWoC33"
      },
      "outputs": [],
      "source": [
        "import pandas as pd\n",
        "import numpy as np\n",
        "import matplotlib.pyplot as plt\n",
        "import seaborn as sns\n",
        "\n",
        "from sklearn.model_selection import train_test_split, KFold\n",
        "from sklearn.preprocessing import StandardScaler\n",
        "from sklearn.metrics import precision_score, recall_score\n",
        "from sklearn.metrics import f1_score, accuracy_score, confusion_matrix\n",
        "from sklearn.metrics import ConfusionMatrixDisplay\n",
        "from sklearn import tree\n",
        "from imblearn.over_sampling import RandomOverSampler\n",
        "from imblearn.under_sampling import RandomUnderSampler"
      ]
    },
    {
      "cell_type": "markdown",
      "source": [
        "#Estatística Descritiva"
      ],
      "metadata": {
        "id": "JqWS3uYOo7NO"
      }
    },
    {
      "cell_type": "code",
      "source": [
        "df = pd.read_csv('/content/drive/MyDrive/IS/Dataframes/CLASSIFICATION_DATA.csv',\n",
        "                 sep = ',')\n",
        "df.head(5)"
      ],
      "metadata": {
        "colab": {
          "base_uri": "https://localhost:8080/",
          "height": 255
        },
        "id": "Epp3q0m0o9OK",
        "outputId": "d035e356-cfa5-4ef3-c2c3-3d8d3f634409"
      },
      "execution_count": null,
      "outputs": [
        {
          "output_type": "execute_result",
          "data": {
            "text/plain": [
              "      VAR_0     VAR_1     VAR_2     VAR_3     VAR_4     VAR_5     VAR_6  \\\n",
              "0 -0.252851  0.303744 -0.251467 -0.345476  1.051370  0.084735 -1.120051   \n",
              "1 -1.260323  0.888270  1.395680 -0.415328 -0.112950 -0.551871  1.216609   \n",
              "2  0.732527  0.182199 -0.674875  0.790469 -0.140526 -1.199873  0.017096   \n",
              "3 -0.585251 -0.063286  0.585887 -1.565182  1.357573  1.338898 -0.428958   \n",
              "4 -0.611630  0.793862 -0.028032 -0.574877  0.706458  0.197539 -1.092781   \n",
              "\n",
              "      VAR_7     VAR_8     VAR_9  ...    VAR_11    VAR_12    VAR_13    VAR_14  \\\n",
              "0  0.212190  1.128456  1.652177  ... -1.094160 -0.725720 -0.284066 -1.099955   \n",
              "1 -0.794750 -0.944225 -0.013426  ...  0.639838 -0.499192 -0.686646 -0.370534   \n",
              "2  1.326455  0.381272  0.262963  ... -2.070491  0.177257  1.537373 -0.958356   \n",
              "3  0.913192  2.971963 -0.358268  ...  1.376216  0.181984 -1.512928 -1.088205   \n",
              "4  1.596296  0.375392 -0.445291  ... -1.605299  1.010495 -0.681575  1.125076   \n",
              "\n",
              "     VAR_15    VAR_16    VAR_17    VAR_18    VAR_19  Target  \n",
              "0 -1.337883  0.866107  1.391478  0.299998 -1.427750       0  \n",
              "1  0.417959 -0.259205 -0.380366  2.851188 -1.005918       1  \n",
              "2  2.359733 -1.093574 -1.226909  0.459132 -0.515472       1  \n",
              "3 -0.443074 -1.316975 -1.585387 -0.896042  0.332659       0  \n",
              "4 -0.588117  0.198212 -0.801422  0.736017  0.404574       0  \n",
              "\n",
              "[5 rows x 21 columns]"
            ],
            "text/html": [
              "\n",
              "  <div id=\"df-e45c14dd-6c86-419e-a285-488ffd36de1e\" class=\"colab-df-container\">\n",
              "    <div>\n",
              "<style scoped>\n",
              "    .dataframe tbody tr th:only-of-type {\n",
              "        vertical-align: middle;\n",
              "    }\n",
              "\n",
              "    .dataframe tbody tr th {\n",
              "        vertical-align: top;\n",
              "    }\n",
              "\n",
              "    .dataframe thead th {\n",
              "        text-align: right;\n",
              "    }\n",
              "</style>\n",
              "<table border=\"1\" class=\"dataframe\">\n",
              "  <thead>\n",
              "    <tr style=\"text-align: right;\">\n",
              "      <th></th>\n",
              "      <th>VAR_0</th>\n",
              "      <th>VAR_1</th>\n",
              "      <th>VAR_2</th>\n",
              "      <th>VAR_3</th>\n",
              "      <th>VAR_4</th>\n",
              "      <th>VAR_5</th>\n",
              "      <th>VAR_6</th>\n",
              "      <th>VAR_7</th>\n",
              "      <th>VAR_8</th>\n",
              "      <th>VAR_9</th>\n",
              "      <th>...</th>\n",
              "      <th>VAR_11</th>\n",
              "      <th>VAR_12</th>\n",
              "      <th>VAR_13</th>\n",
              "      <th>VAR_14</th>\n",
              "      <th>VAR_15</th>\n",
              "      <th>VAR_16</th>\n",
              "      <th>VAR_17</th>\n",
              "      <th>VAR_18</th>\n",
              "      <th>VAR_19</th>\n",
              "      <th>Target</th>\n",
              "    </tr>\n",
              "  </thead>\n",
              "  <tbody>\n",
              "    <tr>\n",
              "      <th>0</th>\n",
              "      <td>-0.252851</td>\n",
              "      <td>0.303744</td>\n",
              "      <td>-0.251467</td>\n",
              "      <td>-0.345476</td>\n",
              "      <td>1.051370</td>\n",
              "      <td>0.084735</td>\n",
              "      <td>-1.120051</td>\n",
              "      <td>0.212190</td>\n",
              "      <td>1.128456</td>\n",
              "      <td>1.652177</td>\n",
              "      <td>...</td>\n",
              "      <td>-1.094160</td>\n",
              "      <td>-0.725720</td>\n",
              "      <td>-0.284066</td>\n",
              "      <td>-1.099955</td>\n",
              "      <td>-1.337883</td>\n",
              "      <td>0.866107</td>\n",
              "      <td>1.391478</td>\n",
              "      <td>0.299998</td>\n",
              "      <td>-1.427750</td>\n",
              "      <td>0</td>\n",
              "    </tr>\n",
              "    <tr>\n",
              "      <th>1</th>\n",
              "      <td>-1.260323</td>\n",
              "      <td>0.888270</td>\n",
              "      <td>1.395680</td>\n",
              "      <td>-0.415328</td>\n",
              "      <td>-0.112950</td>\n",
              "      <td>-0.551871</td>\n",
              "      <td>1.216609</td>\n",
              "      <td>-0.794750</td>\n",
              "      <td>-0.944225</td>\n",
              "      <td>-0.013426</td>\n",
              "      <td>...</td>\n",
              "      <td>0.639838</td>\n",
              "      <td>-0.499192</td>\n",
              "      <td>-0.686646</td>\n",
              "      <td>-0.370534</td>\n",
              "      <td>0.417959</td>\n",
              "      <td>-0.259205</td>\n",
              "      <td>-0.380366</td>\n",
              "      <td>2.851188</td>\n",
              "      <td>-1.005918</td>\n",
              "      <td>1</td>\n",
              "    </tr>\n",
              "    <tr>\n",
              "      <th>2</th>\n",
              "      <td>0.732527</td>\n",
              "      <td>0.182199</td>\n",
              "      <td>-0.674875</td>\n",
              "      <td>0.790469</td>\n",
              "      <td>-0.140526</td>\n",
              "      <td>-1.199873</td>\n",
              "      <td>0.017096</td>\n",
              "      <td>1.326455</td>\n",
              "      <td>0.381272</td>\n",
              "      <td>0.262963</td>\n",
              "      <td>...</td>\n",
              "      <td>-2.070491</td>\n",
              "      <td>0.177257</td>\n",
              "      <td>1.537373</td>\n",
              "      <td>-0.958356</td>\n",
              "      <td>2.359733</td>\n",
              "      <td>-1.093574</td>\n",
              "      <td>-1.226909</td>\n",
              "      <td>0.459132</td>\n",
              "      <td>-0.515472</td>\n",
              "      <td>1</td>\n",
              "    </tr>\n",
              "    <tr>\n",
              "      <th>3</th>\n",
              "      <td>-0.585251</td>\n",
              "      <td>-0.063286</td>\n",
              "      <td>0.585887</td>\n",
              "      <td>-1.565182</td>\n",
              "      <td>1.357573</td>\n",
              "      <td>1.338898</td>\n",
              "      <td>-0.428958</td>\n",
              "      <td>0.913192</td>\n",
              "      <td>2.971963</td>\n",
              "      <td>-0.358268</td>\n",
              "      <td>...</td>\n",
              "      <td>1.376216</td>\n",
              "      <td>0.181984</td>\n",
              "      <td>-1.512928</td>\n",
              "      <td>-1.088205</td>\n",
              "      <td>-0.443074</td>\n",
              "      <td>-1.316975</td>\n",
              "      <td>-1.585387</td>\n",
              "      <td>-0.896042</td>\n",
              "      <td>0.332659</td>\n",
              "      <td>0</td>\n",
              "    </tr>\n",
              "    <tr>\n",
              "      <th>4</th>\n",
              "      <td>-0.611630</td>\n",
              "      <td>0.793862</td>\n",
              "      <td>-0.028032</td>\n",
              "      <td>-0.574877</td>\n",
              "      <td>0.706458</td>\n",
              "      <td>0.197539</td>\n",
              "      <td>-1.092781</td>\n",
              "      <td>1.596296</td>\n",
              "      <td>0.375392</td>\n",
              "      <td>-0.445291</td>\n",
              "      <td>...</td>\n",
              "      <td>-1.605299</td>\n",
              "      <td>1.010495</td>\n",
              "      <td>-0.681575</td>\n",
              "      <td>1.125076</td>\n",
              "      <td>-0.588117</td>\n",
              "      <td>0.198212</td>\n",
              "      <td>-0.801422</td>\n",
              "      <td>0.736017</td>\n",
              "      <td>0.404574</td>\n",
              "      <td>0</td>\n",
              "    </tr>\n",
              "  </tbody>\n",
              "</table>\n",
              "<p>5 rows × 21 columns</p>\n",
              "</div>\n",
              "    <div class=\"colab-df-buttons\">\n",
              "\n",
              "  <div class=\"colab-df-container\">\n",
              "    <button class=\"colab-df-convert\" onclick=\"convertToInteractive('df-e45c14dd-6c86-419e-a285-488ffd36de1e')\"\n",
              "            title=\"Convert this dataframe to an interactive table.\"\n",
              "            style=\"display:none;\">\n",
              "\n",
              "  <svg xmlns=\"http://www.w3.org/2000/svg\" height=\"24px\" viewBox=\"0 -960 960 960\">\n",
              "    <path d=\"M120-120v-720h720v720H120Zm60-500h600v-160H180v160Zm220 220h160v-160H400v160Zm0 220h160v-160H400v160ZM180-400h160v-160H180v160Zm440 0h160v-160H620v160ZM180-180h160v-160H180v160Zm440 0h160v-160H620v160Z\"/>\n",
              "  </svg>\n",
              "    </button>\n",
              "\n",
              "  <style>\n",
              "    .colab-df-container {\n",
              "      display:flex;\n",
              "      gap: 12px;\n",
              "    }\n",
              "\n",
              "    .colab-df-convert {\n",
              "      background-color: #E8F0FE;\n",
              "      border: none;\n",
              "      border-radius: 50%;\n",
              "      cursor: pointer;\n",
              "      display: none;\n",
              "      fill: #1967D2;\n",
              "      height: 32px;\n",
              "      padding: 0 0 0 0;\n",
              "      width: 32px;\n",
              "    }\n",
              "\n",
              "    .colab-df-convert:hover {\n",
              "      background-color: #E2EBFA;\n",
              "      box-shadow: 0px 1px 2px rgba(60, 64, 67, 0.3), 0px 1px 3px 1px rgba(60, 64, 67, 0.15);\n",
              "      fill: #174EA6;\n",
              "    }\n",
              "\n",
              "    .colab-df-buttons div {\n",
              "      margin-bottom: 4px;\n",
              "    }\n",
              "\n",
              "    [theme=dark] .colab-df-convert {\n",
              "      background-color: #3B4455;\n",
              "      fill: #D2E3FC;\n",
              "    }\n",
              "\n",
              "    [theme=dark] .colab-df-convert:hover {\n",
              "      background-color: #434B5C;\n",
              "      box-shadow: 0px 1px 3px 1px rgba(0, 0, 0, 0.15);\n",
              "      filter: drop-shadow(0px 1px 2px rgba(0, 0, 0, 0.3));\n",
              "      fill: #FFFFFF;\n",
              "    }\n",
              "  </style>\n",
              "\n",
              "    <script>\n",
              "      const buttonEl =\n",
              "        document.querySelector('#df-e45c14dd-6c86-419e-a285-488ffd36de1e button.colab-df-convert');\n",
              "      buttonEl.style.display =\n",
              "        google.colab.kernel.accessAllowed ? 'block' : 'none';\n",
              "\n",
              "      async function convertToInteractive(key) {\n",
              "        const element = document.querySelector('#df-e45c14dd-6c86-419e-a285-488ffd36de1e');\n",
              "        const dataTable =\n",
              "          await google.colab.kernel.invokeFunction('convertToInteractive',\n",
              "                                                    [key], {});\n",
              "        if (!dataTable) return;\n",
              "\n",
              "        const docLinkHtml = 'Like what you see? Visit the ' +\n",
              "          '<a target=\"_blank\" href=https://colab.research.google.com/notebooks/data_table.ipynb>data table notebook</a>'\n",
              "          + ' to learn more about interactive tables.';\n",
              "        element.innerHTML = '';\n",
              "        dataTable['output_type'] = 'display_data';\n",
              "        await google.colab.output.renderOutput(dataTable, element);\n",
              "        const docLink = document.createElement('div');\n",
              "        docLink.innerHTML = docLinkHtml;\n",
              "        element.appendChild(docLink);\n",
              "      }\n",
              "    </script>\n",
              "  </div>\n",
              "\n",
              "\n",
              "<div id=\"df-9aabfdcf-bc09-4857-89ee-e6d4d68a8be4\">\n",
              "  <button class=\"colab-df-quickchart\" onclick=\"quickchart('df-9aabfdcf-bc09-4857-89ee-e6d4d68a8be4')\"\n",
              "            title=\"Suggest charts\"\n",
              "            style=\"display:none;\">\n",
              "\n",
              "<svg xmlns=\"http://www.w3.org/2000/svg\" height=\"24px\"viewBox=\"0 0 24 24\"\n",
              "     width=\"24px\">\n",
              "    <g>\n",
              "        <path d=\"M19 3H5c-1.1 0-2 .9-2 2v14c0 1.1.9 2 2 2h14c1.1 0 2-.9 2-2V5c0-1.1-.9-2-2-2zM9 17H7v-7h2v7zm4 0h-2V7h2v10zm4 0h-2v-4h2v4z\"/>\n",
              "    </g>\n",
              "</svg>\n",
              "  </button>\n",
              "\n",
              "<style>\n",
              "  .colab-df-quickchart {\n",
              "      --bg-color: #E8F0FE;\n",
              "      --fill-color: #1967D2;\n",
              "      --hover-bg-color: #E2EBFA;\n",
              "      --hover-fill-color: #174EA6;\n",
              "      --disabled-fill-color: #AAA;\n",
              "      --disabled-bg-color: #DDD;\n",
              "  }\n",
              "\n",
              "  [theme=dark] .colab-df-quickchart {\n",
              "      --bg-color: #3B4455;\n",
              "      --fill-color: #D2E3FC;\n",
              "      --hover-bg-color: #434B5C;\n",
              "      --hover-fill-color: #FFFFFF;\n",
              "      --disabled-bg-color: #3B4455;\n",
              "      --disabled-fill-color: #666;\n",
              "  }\n",
              "\n",
              "  .colab-df-quickchart {\n",
              "    background-color: var(--bg-color);\n",
              "    border: none;\n",
              "    border-radius: 50%;\n",
              "    cursor: pointer;\n",
              "    display: none;\n",
              "    fill: var(--fill-color);\n",
              "    height: 32px;\n",
              "    padding: 0;\n",
              "    width: 32px;\n",
              "  }\n",
              "\n",
              "  .colab-df-quickchart:hover {\n",
              "    background-color: var(--hover-bg-color);\n",
              "    box-shadow: 0 1px 2px rgba(60, 64, 67, 0.3), 0 1px 3px 1px rgba(60, 64, 67, 0.15);\n",
              "    fill: var(--button-hover-fill-color);\n",
              "  }\n",
              "\n",
              "  .colab-df-quickchart-complete:disabled,\n",
              "  .colab-df-quickchart-complete:disabled:hover {\n",
              "    background-color: var(--disabled-bg-color);\n",
              "    fill: var(--disabled-fill-color);\n",
              "    box-shadow: none;\n",
              "  }\n",
              "\n",
              "  .colab-df-spinner {\n",
              "    border: 2px solid var(--fill-color);\n",
              "    border-color: transparent;\n",
              "    border-bottom-color: var(--fill-color);\n",
              "    animation:\n",
              "      spin 1s steps(1) infinite;\n",
              "  }\n",
              "\n",
              "  @keyframes spin {\n",
              "    0% {\n",
              "      border-color: transparent;\n",
              "      border-bottom-color: var(--fill-color);\n",
              "      border-left-color: var(--fill-color);\n",
              "    }\n",
              "    20% {\n",
              "      border-color: transparent;\n",
              "      border-left-color: var(--fill-color);\n",
              "      border-top-color: var(--fill-color);\n",
              "    }\n",
              "    30% {\n",
              "      border-color: transparent;\n",
              "      border-left-color: var(--fill-color);\n",
              "      border-top-color: var(--fill-color);\n",
              "      border-right-color: var(--fill-color);\n",
              "    }\n",
              "    40% {\n",
              "      border-color: transparent;\n",
              "      border-right-color: var(--fill-color);\n",
              "      border-top-color: var(--fill-color);\n",
              "    }\n",
              "    60% {\n",
              "      border-color: transparent;\n",
              "      border-right-color: var(--fill-color);\n",
              "    }\n",
              "    80% {\n",
              "      border-color: transparent;\n",
              "      border-right-color: var(--fill-color);\n",
              "      border-bottom-color: var(--fill-color);\n",
              "    }\n",
              "    90% {\n",
              "      border-color: transparent;\n",
              "      border-bottom-color: var(--fill-color);\n",
              "    }\n",
              "  }\n",
              "</style>\n",
              "\n",
              "  <script>\n",
              "    async function quickchart(key) {\n",
              "      const quickchartButtonEl =\n",
              "        document.querySelector('#' + key + ' button');\n",
              "      quickchartButtonEl.disabled = true;  // To prevent multiple clicks.\n",
              "      quickchartButtonEl.classList.add('colab-df-spinner');\n",
              "      try {\n",
              "        const charts = await google.colab.kernel.invokeFunction(\n",
              "            'suggestCharts', [key], {});\n",
              "      } catch (error) {\n",
              "        console.error('Error during call to suggestCharts:', error);\n",
              "      }\n",
              "      quickchartButtonEl.classList.remove('colab-df-spinner');\n",
              "      quickchartButtonEl.classList.add('colab-df-quickchart-complete');\n",
              "    }\n",
              "    (() => {\n",
              "      let quickchartButtonEl =\n",
              "        document.querySelector('#df-9aabfdcf-bc09-4857-89ee-e6d4d68a8be4 button');\n",
              "      quickchartButtonEl.style.display =\n",
              "        google.colab.kernel.accessAllowed ? 'block' : 'none';\n",
              "    })();\n",
              "  </script>\n",
              "</div>\n",
              "\n",
              "    </div>\n",
              "  </div>\n"
            ],
            "application/vnd.google.colaboratory.intrinsic+json": {
              "type": "dataframe",
              "variable_name": "df"
            }
          },
          "metadata": {},
          "execution_count": 2
        }
      ]
    },
    {
      "cell_type": "code",
      "source": [
        "df.info()"
      ],
      "metadata": {
        "colab": {
          "base_uri": "https://localhost:8080/"
        },
        "id": "sRwAufDspXio",
        "outputId": "0ad29424-ce8d-49b0-e6e5-45ba8797c7ce"
      },
      "execution_count": null,
      "outputs": [
        {
          "output_type": "stream",
          "name": "stdout",
          "text": [
            "<class 'pandas.core.frame.DataFrame'>\n",
            "RangeIndex: 10000 entries, 0 to 9999\n",
            "Data columns (total 21 columns):\n",
            " #   Column  Non-Null Count  Dtype  \n",
            "---  ------  --------------  -----  \n",
            " 0   VAR_0   10000 non-null  float64\n",
            " 1   VAR_1   10000 non-null  float64\n",
            " 2   VAR_2   10000 non-null  float64\n",
            " 3   VAR_3   10000 non-null  float64\n",
            " 4   VAR_4   10000 non-null  float64\n",
            " 5   VAR_5   10000 non-null  float64\n",
            " 6   VAR_6   10000 non-null  float64\n",
            " 7   VAR_7   10000 non-null  float64\n",
            " 8   VAR_8   10000 non-null  float64\n",
            " 9   VAR_9   10000 non-null  float64\n",
            " 10  VAR_10  10000 non-null  float64\n",
            " 11  VAR_11  10000 non-null  float64\n",
            " 12  VAR_12  10000 non-null  float64\n",
            " 13  VAR_13  10000 non-null  float64\n",
            " 14  VAR_14  10000 non-null  float64\n",
            " 15  VAR_15  10000 non-null  float64\n",
            " 16  VAR_16  10000 non-null  float64\n",
            " 17  VAR_17  10000 non-null  float64\n",
            " 18  VAR_18  10000 non-null  float64\n",
            " 19  VAR_19  10000 non-null  float64\n",
            " 20  Target  10000 non-null  int64  \n",
            "dtypes: float64(20), int64(1)\n",
            "memory usage: 1.6 MB\n"
          ]
        }
      ]
    },
    {
      "cell_type": "code",
      "source": [
        "df.describe()"
      ],
      "metadata": {
        "colab": {
          "base_uri": "https://localhost:8080/",
          "height": 349
        },
        "id": "f7KLKQh9pyzt",
        "outputId": "eab44542-12f5-435c-9ad8-b8d4a864f1e3"
      },
      "execution_count": null,
      "outputs": [
        {
          "output_type": "execute_result",
          "data": {
            "text/plain": [
              "              VAR_0         VAR_1         VAR_2         VAR_3         VAR_4  \\\n",
              "count  10000.000000  10000.000000  10000.000000  10000.000000  10000.000000   \n",
              "mean       0.186855     -0.002045     -0.007909     -0.001657      0.015417   \n",
              "std        0.847992      1.002239      0.997162      1.007485      1.005404   \n",
              "min       -2.793123     -3.596511     -5.002837     -4.161452     -3.688975   \n",
              "25%       -0.387396     -0.675519     -0.672798     -0.679870     -0.667538   \n",
              "50%        0.064415     -0.014302     -0.005901     -0.001642      0.020637   \n",
              "75%        0.798953      0.677061      0.665341      0.690786      0.704259   \n",
              "max        3.048964      3.833914      3.463224      3.496862      4.036835   \n",
              "\n",
              "              VAR_5         VAR_6         VAR_7         VAR_8         VAR_9  \\\n",
              "count  10000.000000  10000.000000  10000.000000  10000.000000  10000.000000   \n",
              "mean       0.220350      0.003034     -0.003825      0.010729     -0.004005   \n",
              "std        1.083678      1.001745      1.003055      0.995520      0.994226   \n",
              "min       -3.659182     -3.572579     -4.070440     -4.063125     -3.643834   \n",
              "25%       -0.568446     -0.671500     -0.682478     -0.652901     -0.671863   \n",
              "50%        0.189325     -0.003407     -0.007688      0.007201     -0.005456   \n",
              "75%        0.976717      0.682143      0.665345      0.676318      0.655999   \n",
              "max        4.002674      4.303838      4.041328      4.545715      4.108575   \n",
              "\n",
              "       ...        VAR_11        VAR_12        VAR_13        VAR_14  \\\n",
              "count  ...  10000.000000  10000.000000  10000.000000  10000.000000   \n",
              "mean   ...     -0.009836      0.004462     -0.001896     -0.015145   \n",
              "std    ...      1.002879      0.996281      1.432104      0.990764   \n",
              "min    ...     -3.887383     -4.067483     -5.235831     -3.931497   \n",
              "25%    ...     -0.669793     -0.664209     -1.064785     -0.693433   \n",
              "50%    ...     -0.007284      0.003861     -0.114119     -0.015338   \n",
              "75%    ...      0.661906      0.678210      1.057260      0.647630   \n",
              "max    ...      3.772331      3.912987      4.621245      3.670074   \n",
              "\n",
              "             VAR_15        VAR_16        VAR_17        VAR_18        VAR_19  \\\n",
              "count  10000.000000  10000.000000  10000.000000  10000.000000  10000.000000   \n",
              "mean      -0.006617      0.009159     -0.010996     -0.615511     -0.012498   \n",
              "std        0.999271      0.998161      1.002691      1.123408      0.988079   \n",
              "min       -4.271885     -3.790453     -3.753775     -4.709611     -3.672908   \n",
              "25%       -0.673303     -0.671203     -0.695031     -1.322738     -0.666266   \n",
              "50%       -0.016945      0.001726     -0.011242     -0.822401     -0.003938   \n",
              "75%        0.672311      0.696287      0.666565     -0.014295      0.652281   \n",
              "max        4.092602      3.996215      3.718123      3.784335      3.455180   \n",
              "\n",
              "             Target  \n",
              "count  10000.000000  \n",
              "mean       0.204300  \n",
              "std        0.403209  \n",
              "min        0.000000  \n",
              "25%        0.000000  \n",
              "50%        0.000000  \n",
              "75%        0.000000  \n",
              "max        1.000000  \n",
              "\n",
              "[8 rows x 21 columns]"
            ],
            "text/html": [
              "\n",
              "  <div id=\"df-18ab962c-de86-47f0-9f9f-8786a457e897\" class=\"colab-df-container\">\n",
              "    <div>\n",
              "<style scoped>\n",
              "    .dataframe tbody tr th:only-of-type {\n",
              "        vertical-align: middle;\n",
              "    }\n",
              "\n",
              "    .dataframe tbody tr th {\n",
              "        vertical-align: top;\n",
              "    }\n",
              "\n",
              "    .dataframe thead th {\n",
              "        text-align: right;\n",
              "    }\n",
              "</style>\n",
              "<table border=\"1\" class=\"dataframe\">\n",
              "  <thead>\n",
              "    <tr style=\"text-align: right;\">\n",
              "      <th></th>\n",
              "      <th>VAR_0</th>\n",
              "      <th>VAR_1</th>\n",
              "      <th>VAR_2</th>\n",
              "      <th>VAR_3</th>\n",
              "      <th>VAR_4</th>\n",
              "      <th>VAR_5</th>\n",
              "      <th>VAR_6</th>\n",
              "      <th>VAR_7</th>\n",
              "      <th>VAR_8</th>\n",
              "      <th>VAR_9</th>\n",
              "      <th>...</th>\n",
              "      <th>VAR_11</th>\n",
              "      <th>VAR_12</th>\n",
              "      <th>VAR_13</th>\n",
              "      <th>VAR_14</th>\n",
              "      <th>VAR_15</th>\n",
              "      <th>VAR_16</th>\n",
              "      <th>VAR_17</th>\n",
              "      <th>VAR_18</th>\n",
              "      <th>VAR_19</th>\n",
              "      <th>Target</th>\n",
              "    </tr>\n",
              "  </thead>\n",
              "  <tbody>\n",
              "    <tr>\n",
              "      <th>count</th>\n",
              "      <td>10000.000000</td>\n",
              "      <td>10000.000000</td>\n",
              "      <td>10000.000000</td>\n",
              "      <td>10000.000000</td>\n",
              "      <td>10000.000000</td>\n",
              "      <td>10000.000000</td>\n",
              "      <td>10000.000000</td>\n",
              "      <td>10000.000000</td>\n",
              "      <td>10000.000000</td>\n",
              "      <td>10000.000000</td>\n",
              "      <td>...</td>\n",
              "      <td>10000.000000</td>\n",
              "      <td>10000.000000</td>\n",
              "      <td>10000.000000</td>\n",
              "      <td>10000.000000</td>\n",
              "      <td>10000.000000</td>\n",
              "      <td>10000.000000</td>\n",
              "      <td>10000.000000</td>\n",
              "      <td>10000.000000</td>\n",
              "      <td>10000.000000</td>\n",
              "      <td>10000.000000</td>\n",
              "    </tr>\n",
              "    <tr>\n",
              "      <th>mean</th>\n",
              "      <td>0.186855</td>\n",
              "      <td>-0.002045</td>\n",
              "      <td>-0.007909</td>\n",
              "      <td>-0.001657</td>\n",
              "      <td>0.015417</td>\n",
              "      <td>0.220350</td>\n",
              "      <td>0.003034</td>\n",
              "      <td>-0.003825</td>\n",
              "      <td>0.010729</td>\n",
              "      <td>-0.004005</td>\n",
              "      <td>...</td>\n",
              "      <td>-0.009836</td>\n",
              "      <td>0.004462</td>\n",
              "      <td>-0.001896</td>\n",
              "      <td>-0.015145</td>\n",
              "      <td>-0.006617</td>\n",
              "      <td>0.009159</td>\n",
              "      <td>-0.010996</td>\n",
              "      <td>-0.615511</td>\n",
              "      <td>-0.012498</td>\n",
              "      <td>0.204300</td>\n",
              "    </tr>\n",
              "    <tr>\n",
              "      <th>std</th>\n",
              "      <td>0.847992</td>\n",
              "      <td>1.002239</td>\n",
              "      <td>0.997162</td>\n",
              "      <td>1.007485</td>\n",
              "      <td>1.005404</td>\n",
              "      <td>1.083678</td>\n",
              "      <td>1.001745</td>\n",
              "      <td>1.003055</td>\n",
              "      <td>0.995520</td>\n",
              "      <td>0.994226</td>\n",
              "      <td>...</td>\n",
              "      <td>1.002879</td>\n",
              "      <td>0.996281</td>\n",
              "      <td>1.432104</td>\n",
              "      <td>0.990764</td>\n",
              "      <td>0.999271</td>\n",
              "      <td>0.998161</td>\n",
              "      <td>1.002691</td>\n",
              "      <td>1.123408</td>\n",
              "      <td>0.988079</td>\n",
              "      <td>0.403209</td>\n",
              "    </tr>\n",
              "    <tr>\n",
              "      <th>min</th>\n",
              "      <td>-2.793123</td>\n",
              "      <td>-3.596511</td>\n",
              "      <td>-5.002837</td>\n",
              "      <td>-4.161452</td>\n",
              "      <td>-3.688975</td>\n",
              "      <td>-3.659182</td>\n",
              "      <td>-3.572579</td>\n",
              "      <td>-4.070440</td>\n",
              "      <td>-4.063125</td>\n",
              "      <td>-3.643834</td>\n",
              "      <td>...</td>\n",
              "      <td>-3.887383</td>\n",
              "      <td>-4.067483</td>\n",
              "      <td>-5.235831</td>\n",
              "      <td>-3.931497</td>\n",
              "      <td>-4.271885</td>\n",
              "      <td>-3.790453</td>\n",
              "      <td>-3.753775</td>\n",
              "      <td>-4.709611</td>\n",
              "      <td>-3.672908</td>\n",
              "      <td>0.000000</td>\n",
              "    </tr>\n",
              "    <tr>\n",
              "      <th>25%</th>\n",
              "      <td>-0.387396</td>\n",
              "      <td>-0.675519</td>\n",
              "      <td>-0.672798</td>\n",
              "      <td>-0.679870</td>\n",
              "      <td>-0.667538</td>\n",
              "      <td>-0.568446</td>\n",
              "      <td>-0.671500</td>\n",
              "      <td>-0.682478</td>\n",
              "      <td>-0.652901</td>\n",
              "      <td>-0.671863</td>\n",
              "      <td>...</td>\n",
              "      <td>-0.669793</td>\n",
              "      <td>-0.664209</td>\n",
              "      <td>-1.064785</td>\n",
              "      <td>-0.693433</td>\n",
              "      <td>-0.673303</td>\n",
              "      <td>-0.671203</td>\n",
              "      <td>-0.695031</td>\n",
              "      <td>-1.322738</td>\n",
              "      <td>-0.666266</td>\n",
              "      <td>0.000000</td>\n",
              "    </tr>\n",
              "    <tr>\n",
              "      <th>50%</th>\n",
              "      <td>0.064415</td>\n",
              "      <td>-0.014302</td>\n",
              "      <td>-0.005901</td>\n",
              "      <td>-0.001642</td>\n",
              "      <td>0.020637</td>\n",
              "      <td>0.189325</td>\n",
              "      <td>-0.003407</td>\n",
              "      <td>-0.007688</td>\n",
              "      <td>0.007201</td>\n",
              "      <td>-0.005456</td>\n",
              "      <td>...</td>\n",
              "      <td>-0.007284</td>\n",
              "      <td>0.003861</td>\n",
              "      <td>-0.114119</td>\n",
              "      <td>-0.015338</td>\n",
              "      <td>-0.016945</td>\n",
              "      <td>0.001726</td>\n",
              "      <td>-0.011242</td>\n",
              "      <td>-0.822401</td>\n",
              "      <td>-0.003938</td>\n",
              "      <td>0.000000</td>\n",
              "    </tr>\n",
              "    <tr>\n",
              "      <th>75%</th>\n",
              "      <td>0.798953</td>\n",
              "      <td>0.677061</td>\n",
              "      <td>0.665341</td>\n",
              "      <td>0.690786</td>\n",
              "      <td>0.704259</td>\n",
              "      <td>0.976717</td>\n",
              "      <td>0.682143</td>\n",
              "      <td>0.665345</td>\n",
              "      <td>0.676318</td>\n",
              "      <td>0.655999</td>\n",
              "      <td>...</td>\n",
              "      <td>0.661906</td>\n",
              "      <td>0.678210</td>\n",
              "      <td>1.057260</td>\n",
              "      <td>0.647630</td>\n",
              "      <td>0.672311</td>\n",
              "      <td>0.696287</td>\n",
              "      <td>0.666565</td>\n",
              "      <td>-0.014295</td>\n",
              "      <td>0.652281</td>\n",
              "      <td>0.000000</td>\n",
              "    </tr>\n",
              "    <tr>\n",
              "      <th>max</th>\n",
              "      <td>3.048964</td>\n",
              "      <td>3.833914</td>\n",
              "      <td>3.463224</td>\n",
              "      <td>3.496862</td>\n",
              "      <td>4.036835</td>\n",
              "      <td>4.002674</td>\n",
              "      <td>4.303838</td>\n",
              "      <td>4.041328</td>\n",
              "      <td>4.545715</td>\n",
              "      <td>4.108575</td>\n",
              "      <td>...</td>\n",
              "      <td>3.772331</td>\n",
              "      <td>3.912987</td>\n",
              "      <td>4.621245</td>\n",
              "      <td>3.670074</td>\n",
              "      <td>4.092602</td>\n",
              "      <td>3.996215</td>\n",
              "      <td>3.718123</td>\n",
              "      <td>3.784335</td>\n",
              "      <td>3.455180</td>\n",
              "      <td>1.000000</td>\n",
              "    </tr>\n",
              "  </tbody>\n",
              "</table>\n",
              "<p>8 rows × 21 columns</p>\n",
              "</div>\n",
              "    <div class=\"colab-df-buttons\">\n",
              "\n",
              "  <div class=\"colab-df-container\">\n",
              "    <button class=\"colab-df-convert\" onclick=\"convertToInteractive('df-18ab962c-de86-47f0-9f9f-8786a457e897')\"\n",
              "            title=\"Convert this dataframe to an interactive table.\"\n",
              "            style=\"display:none;\">\n",
              "\n",
              "  <svg xmlns=\"http://www.w3.org/2000/svg\" height=\"24px\" viewBox=\"0 -960 960 960\">\n",
              "    <path d=\"M120-120v-720h720v720H120Zm60-500h600v-160H180v160Zm220 220h160v-160H400v160Zm0 220h160v-160H400v160ZM180-400h160v-160H180v160Zm440 0h160v-160H620v160ZM180-180h160v-160H180v160Zm440 0h160v-160H620v160Z\"/>\n",
              "  </svg>\n",
              "    </button>\n",
              "\n",
              "  <style>\n",
              "    .colab-df-container {\n",
              "      display:flex;\n",
              "      gap: 12px;\n",
              "    }\n",
              "\n",
              "    .colab-df-convert {\n",
              "      background-color: #E8F0FE;\n",
              "      border: none;\n",
              "      border-radius: 50%;\n",
              "      cursor: pointer;\n",
              "      display: none;\n",
              "      fill: #1967D2;\n",
              "      height: 32px;\n",
              "      padding: 0 0 0 0;\n",
              "      width: 32px;\n",
              "    }\n",
              "\n",
              "    .colab-df-convert:hover {\n",
              "      background-color: #E2EBFA;\n",
              "      box-shadow: 0px 1px 2px rgba(60, 64, 67, 0.3), 0px 1px 3px 1px rgba(60, 64, 67, 0.15);\n",
              "      fill: #174EA6;\n",
              "    }\n",
              "\n",
              "    .colab-df-buttons div {\n",
              "      margin-bottom: 4px;\n",
              "    }\n",
              "\n",
              "    [theme=dark] .colab-df-convert {\n",
              "      background-color: #3B4455;\n",
              "      fill: #D2E3FC;\n",
              "    }\n",
              "\n",
              "    [theme=dark] .colab-df-convert:hover {\n",
              "      background-color: #434B5C;\n",
              "      box-shadow: 0px 1px 3px 1px rgba(0, 0, 0, 0.15);\n",
              "      filter: drop-shadow(0px 1px 2px rgba(0, 0, 0, 0.3));\n",
              "      fill: #FFFFFF;\n",
              "    }\n",
              "  </style>\n",
              "\n",
              "    <script>\n",
              "      const buttonEl =\n",
              "        document.querySelector('#df-18ab962c-de86-47f0-9f9f-8786a457e897 button.colab-df-convert');\n",
              "      buttonEl.style.display =\n",
              "        google.colab.kernel.accessAllowed ? 'block' : 'none';\n",
              "\n",
              "      async function convertToInteractive(key) {\n",
              "        const element = document.querySelector('#df-18ab962c-de86-47f0-9f9f-8786a457e897');\n",
              "        const dataTable =\n",
              "          await google.colab.kernel.invokeFunction('convertToInteractive',\n",
              "                                                    [key], {});\n",
              "        if (!dataTable) return;\n",
              "\n",
              "        const docLinkHtml = 'Like what you see? Visit the ' +\n",
              "          '<a target=\"_blank\" href=https://colab.research.google.com/notebooks/data_table.ipynb>data table notebook</a>'\n",
              "          + ' to learn more about interactive tables.';\n",
              "        element.innerHTML = '';\n",
              "        dataTable['output_type'] = 'display_data';\n",
              "        await google.colab.output.renderOutput(dataTable, element);\n",
              "        const docLink = document.createElement('div');\n",
              "        docLink.innerHTML = docLinkHtml;\n",
              "        element.appendChild(docLink);\n",
              "      }\n",
              "    </script>\n",
              "  </div>\n",
              "\n",
              "\n",
              "<div id=\"df-27ac0f13-7e09-4773-b4e6-2024fb612521\">\n",
              "  <button class=\"colab-df-quickchart\" onclick=\"quickchart('df-27ac0f13-7e09-4773-b4e6-2024fb612521')\"\n",
              "            title=\"Suggest charts\"\n",
              "            style=\"display:none;\">\n",
              "\n",
              "<svg xmlns=\"http://www.w3.org/2000/svg\" height=\"24px\"viewBox=\"0 0 24 24\"\n",
              "     width=\"24px\">\n",
              "    <g>\n",
              "        <path d=\"M19 3H5c-1.1 0-2 .9-2 2v14c0 1.1.9 2 2 2h14c1.1 0 2-.9 2-2V5c0-1.1-.9-2-2-2zM9 17H7v-7h2v7zm4 0h-2V7h2v10zm4 0h-2v-4h2v4z\"/>\n",
              "    </g>\n",
              "</svg>\n",
              "  </button>\n",
              "\n",
              "<style>\n",
              "  .colab-df-quickchart {\n",
              "      --bg-color: #E8F0FE;\n",
              "      --fill-color: #1967D2;\n",
              "      --hover-bg-color: #E2EBFA;\n",
              "      --hover-fill-color: #174EA6;\n",
              "      --disabled-fill-color: #AAA;\n",
              "      --disabled-bg-color: #DDD;\n",
              "  }\n",
              "\n",
              "  [theme=dark] .colab-df-quickchart {\n",
              "      --bg-color: #3B4455;\n",
              "      --fill-color: #D2E3FC;\n",
              "      --hover-bg-color: #434B5C;\n",
              "      --hover-fill-color: #FFFFFF;\n",
              "      --disabled-bg-color: #3B4455;\n",
              "      --disabled-fill-color: #666;\n",
              "  }\n",
              "\n",
              "  .colab-df-quickchart {\n",
              "    background-color: var(--bg-color);\n",
              "    border: none;\n",
              "    border-radius: 50%;\n",
              "    cursor: pointer;\n",
              "    display: none;\n",
              "    fill: var(--fill-color);\n",
              "    height: 32px;\n",
              "    padding: 0;\n",
              "    width: 32px;\n",
              "  }\n",
              "\n",
              "  .colab-df-quickchart:hover {\n",
              "    background-color: var(--hover-bg-color);\n",
              "    box-shadow: 0 1px 2px rgba(60, 64, 67, 0.3), 0 1px 3px 1px rgba(60, 64, 67, 0.15);\n",
              "    fill: var(--button-hover-fill-color);\n",
              "  }\n",
              "\n",
              "  .colab-df-quickchart-complete:disabled,\n",
              "  .colab-df-quickchart-complete:disabled:hover {\n",
              "    background-color: var(--disabled-bg-color);\n",
              "    fill: var(--disabled-fill-color);\n",
              "    box-shadow: none;\n",
              "  }\n",
              "\n",
              "  .colab-df-spinner {\n",
              "    border: 2px solid var(--fill-color);\n",
              "    border-color: transparent;\n",
              "    border-bottom-color: var(--fill-color);\n",
              "    animation:\n",
              "      spin 1s steps(1) infinite;\n",
              "  }\n",
              "\n",
              "  @keyframes spin {\n",
              "    0% {\n",
              "      border-color: transparent;\n",
              "      border-bottom-color: var(--fill-color);\n",
              "      border-left-color: var(--fill-color);\n",
              "    }\n",
              "    20% {\n",
              "      border-color: transparent;\n",
              "      border-left-color: var(--fill-color);\n",
              "      border-top-color: var(--fill-color);\n",
              "    }\n",
              "    30% {\n",
              "      border-color: transparent;\n",
              "      border-left-color: var(--fill-color);\n",
              "      border-top-color: var(--fill-color);\n",
              "      border-right-color: var(--fill-color);\n",
              "    }\n",
              "    40% {\n",
              "      border-color: transparent;\n",
              "      border-right-color: var(--fill-color);\n",
              "      border-top-color: var(--fill-color);\n",
              "    }\n",
              "    60% {\n",
              "      border-color: transparent;\n",
              "      border-right-color: var(--fill-color);\n",
              "    }\n",
              "    80% {\n",
              "      border-color: transparent;\n",
              "      border-right-color: var(--fill-color);\n",
              "      border-bottom-color: var(--fill-color);\n",
              "    }\n",
              "    90% {\n",
              "      border-color: transparent;\n",
              "      border-bottom-color: var(--fill-color);\n",
              "    }\n",
              "  }\n",
              "</style>\n",
              "\n",
              "  <script>\n",
              "    async function quickchart(key) {\n",
              "      const quickchartButtonEl =\n",
              "        document.querySelector('#' + key + ' button');\n",
              "      quickchartButtonEl.disabled = true;  // To prevent multiple clicks.\n",
              "      quickchartButtonEl.classList.add('colab-df-spinner');\n",
              "      try {\n",
              "        const charts = await google.colab.kernel.invokeFunction(\n",
              "            'suggestCharts', [key], {});\n",
              "      } catch (error) {\n",
              "        console.error('Error during call to suggestCharts:', error);\n",
              "      }\n",
              "      quickchartButtonEl.classList.remove('colab-df-spinner');\n",
              "      quickchartButtonEl.classList.add('colab-df-quickchart-complete');\n",
              "    }\n",
              "    (() => {\n",
              "      let quickchartButtonEl =\n",
              "        document.querySelector('#df-27ac0f13-7e09-4773-b4e6-2024fb612521 button');\n",
              "      quickchartButtonEl.style.display =\n",
              "        google.colab.kernel.accessAllowed ? 'block' : 'none';\n",
              "    })();\n",
              "  </script>\n",
              "</div>\n",
              "\n",
              "    </div>\n",
              "  </div>\n"
            ],
            "application/vnd.google.colaboratory.intrinsic+json": {
              "type": "dataframe"
            }
          },
          "metadata": {},
          "execution_count": 4
        }
      ]
    },
    {
      "cell_type": "code",
      "source": [
        "df.columns"
      ],
      "metadata": {
        "colab": {
          "base_uri": "https://localhost:8080/"
        },
        "id": "hv6XxZf7pzpF",
        "outputId": "2013bddc-46f1-4993-c2ec-6759c2fea546"
      },
      "execution_count": null,
      "outputs": [
        {
          "output_type": "execute_result",
          "data": {
            "text/plain": [
              "Index(['VAR_0', 'VAR_1', 'VAR_2', 'VAR_3', 'VAR_4', 'VAR_5', 'VAR_6', 'VAR_7',\n",
              "       'VAR_8', 'VAR_9', 'VAR_10', 'VAR_11', 'VAR_12', 'VAR_13', 'VAR_14',\n",
              "       'VAR_15', 'VAR_16', 'VAR_17', 'VAR_18', 'VAR_19', 'Target'],\n",
              "      dtype='object')"
            ]
          },
          "metadata": {},
          "execution_count": 5
        }
      ]
    },
    {
      "cell_type": "code",
      "source": [
        "df['Target'].value_counts()\n"
      ],
      "metadata": {
        "colab": {
          "base_uri": "https://localhost:8080/"
        },
        "id": "2AJ1oGhkp89H",
        "outputId": "395d3132-a7c9-4049-afcc-19c1e4a1e8b4"
      },
      "execution_count": null,
      "outputs": [
        {
          "output_type": "execute_result",
          "data": {
            "text/plain": [
              "Target\n",
              "0    7957\n",
              "1    2043\n",
              "Name: count, dtype: int64"
            ]
          },
          "metadata": {},
          "execution_count": 6
        }
      ]
    },
    {
      "cell_type": "code",
      "source": [
        "plt.bar(['Regular', 'Especial'],\n",
        "        df['Target'].value_counts().values,\n",
        "        color = 'purple',\n",
        "        edgecolor = 'black')\n",
        "\n",
        "for i,val in enumerate(df['Target'].value_counts().values):\n",
        "    plt.annotate(str(val),\n",
        "                 xy=(i,val),\n",
        "                 ha='center',\n",
        "                 va='bottom')\n",
        "\n",
        "plt.yticks([])\n",
        "\n",
        "plt.show()"
      ],
      "metadata": {
        "colab": {
          "base_uri": "https://localhost:8080/",
          "height": 430
        },
        "id": "aMs0i3b1w9bl",
        "outputId": "0c01e763-0881-43cf-b7ae-f8c2e25c1d56"
      },
      "execution_count": null,
      "outputs": [
        {
          "output_type": "display_data",
          "data": {
            "text/plain": [
              "<Figure size 640x480 with 1 Axes>"
            ],
            "image/png": "[encoded data removed]"
          },
          "metadata": {}
        }
      ]
    },
    {
      "cell_type": "markdown",
      "source": [
        "#Tratamento de Dados"
      ],
      "metadata": {
        "id": "6DuOwe4hraRo"
      }
    },
    {
      "cell_type": "code",
      "source": [
        "x = df.iloc[:,:-1]\n",
        "y = df.iloc[:,-1]"
      ],
      "metadata": {
        "id": "oPQY3YgcrlFk"
      },
      "execution_count": null,
      "outputs": []
    },
    {
      "cell_type": "code",
      "source": [
        "x_train, x_test, y_train, y_test = train_test_split(x, y,test_size = 0.2, random_state = 42)"
      ],
      "metadata": {
        "id": "EX9BDlD1r-p1"
      },
      "execution_count": null,
      "outputs": []
    },
    {
      "cell_type": "markdown",
      "source": [
        "---"
      ],
      "metadata": {
        "id": "WVUgZodU0cvW"
      }
    },
    {
      "cell_type": "code",
      "source": [
        "ros = RandomOverSampler()"
      ],
      "metadata": {
        "id": "3HP_IqOGy6HN"
      },
      "execution_count": null,
      "outputs": []
    },
    {
      "cell_type": "code",
      "source": [
        "rus = RandomUnderSampler()"
      ],
      "metadata": {
        "id": "nfHvvjLKz3aG"
      },
      "execution_count": null,
      "outputs": []
    },
    {
      "cell_type": "code",
      "source": [
        "x_over, y_over = ros.fit_resample(x,y)"
      ],
      "metadata": {
        "id": "HEZ2bVp5y1e-"
      },
      "execution_count": null,
      "outputs": []
    },
    {
      "cell_type": "code",
      "source": [
        "x_under, y_under = rus.fit_resample(x,y)"
      ],
      "metadata": {
        "id": "ue0UEsoVz7f-"
      },
      "execution_count": null,
      "outputs": []
    },
    {
      "cell_type": "code",
      "source": [
        "x_over_train, x_over_test, y_over_train, y_over_test = train_test_split(x_over, y_over,test_size = 0.2, random_state = 42)"
      ],
      "metadata": {
        "id": "Lq0t6RXkz_2G"
      },
      "execution_count": null,
      "outputs": []
    },
    {
      "cell_type": "code",
      "source": [
        "x_under_train, x_under_test, y_under_train, y_under_test = train_test_split(x_under, y_under,test_size = 0.2, random_state = 42)"
      ],
      "metadata": {
        "id": "PSKVtm0o0UZW"
      },
      "execution_count": null,
      "outputs": []
    },
    {
      "cell_type": "code",
      "source": [
        "y_under.value_counts()"
      ],
      "metadata": {
        "colab": {
          "base_uri": "https://localhost:8080/"
        },
        "id": "iXbaLPaD0jI9",
        "outputId": "ad70f0d9-7726-4f7f-c6dc-bf58a5ba29a8"
      },
      "execution_count": null,
      "outputs": [
        {
          "output_type": "execute_result",
          "data": {
            "text/plain": [
              "Target\n",
              "0    2043\n",
              "1    2043\n",
              "Name: count, dtype: int64"
            ]
          },
          "metadata": {},
          "execution_count": 32
        }
      ]
    },
    {
      "cell_type": "code",
      "source": [
        "y_over.value_counts()"
      ],
      "metadata": {
        "colab": {
          "base_uri": "https://localhost:8080/"
        },
        "id": "LSvdsZxy02H1",
        "outputId": "3cdf2321-f186-4bae-c9ae-1c7f0ed8eb79"
      },
      "execution_count": null,
      "outputs": [
        {
          "output_type": "execute_result",
          "data": {
            "text/plain": [
              "Target\n",
              "0    7957\n",
              "1    7957\n",
              "Name: count, dtype: int64"
            ]
          },
          "metadata": {},
          "execution_count": 33
        }
      ]
    },
    {
      "cell_type": "markdown",
      "source": [
        "---"
      ],
      "metadata": {
        "id": "m6q2UneYyoKu"
      }
    },
    {
      "cell_type": "markdown",
      "source": [
        "#Modelos de SAM"
      ],
      "metadata": {
        "id": "xacznBu8rxnP"
      }
    },
    {
      "cell_type": "code",
      "source": [
        "arvore = tree.DecisionTreeClassifier()\n",
        "arvore.fit(x_train,y_train)"
      ],
      "metadata": {
        "colab": {
          "base_uri": "https://localhost:8080/",
          "height": 74
        },
        "id": "0XZk_Tzor13n",
        "outputId": "83a6ac40-3679-4121-9edb-823a34843ab9"
      },
      "execution_count": null,
      "outputs": [
        {
          "output_type": "execute_result",
          "data": {
            "text/plain": [
              "DecisionTreeClassifier()"
            ],
            "text/html": [
              "<style>#sk-container-id-1 {color: black;background-color: white;}#sk-container-id-1 pre{padding: 0;}#sk-container-id-1 div.sk-toggleable {background-color: white;}#sk-container-id-1 label.sk-toggleable__label {cursor: pointer;display: block;width: 100%;margin-bottom: 0;padding: 0.3em;box-sizing: border-box;text-align: center;}#sk-container-id-1 label.sk-toggleable__label-arrow:before {content: \"▸\";float: left;margin-right: 0.25em;color: #696969;}#sk-container-id-1 label.sk-toggleable__label-arrow:hover:before {color: black;}#sk-container-id-1 div.sk-estimator:hover label.sk-toggleable__label-arrow:before {color: black;}#sk-container-id-1 div.sk-toggleable__content {max-height: 0;max-width: 0;overflow: hidden;text-align: left;background-color: #f0f8ff;}#sk-container-id-1 div.sk-toggleable__content pre {margin: 0.2em;color: black;border-radius: 0.25em;background-color: #f0f8ff;}#sk-container-id-1 input.sk-toggleable__control:checked~div.sk-toggleable__content {max-height: 200px;max-width: 100%;overflow: auto;}#sk-container-id-1 input.sk-toggleable__control:checked~label.sk-toggleable__label-arrow:before {content: \"▾\";}#sk-container-id-1 div.sk-estimator input.sk-toggleable__control:checked~label.sk-toggleable__label {background-color: #d4ebff;}#sk-container-id-1 div.sk-label input.sk-toggleable__control:checked~label.sk-toggleable__label {background-color: #d4ebff;}#sk-container-id-1 input.sk-hidden--visually {border: 0;clip: rect(1px 1px 1px 1px);clip: rect(1px, 1px, 1px, 1px);height: 1px;margin: -1px;overflow: hidden;padding: 0;position: absolute;width: 1px;}#sk-container-id-1 div.sk-estimator {font-family: monospace;background-color: #f0f8ff;border: 1px dotted black;border-radius: 0.25em;box-sizing: border-box;margin-bottom: 0.5em;}#sk-container-id-1 div.sk-estimator:hover {background-color: #d4ebff;}#sk-container-id-1 div.sk-parallel-item::after {content: \"\";width: 100%;border-bottom: 1px solid gray;flex-grow: 1;}#sk-container-id-1 div.sk-label:hover label.sk-toggleable__label {background-color: #d4ebff;}#sk-container-id-1 div.sk-serial::before {content: \"\";position: absolute;border-left: 1px solid gray;box-sizing: border-box;top: 0;bottom: 0;left: 50%;z-index: 0;}#sk-container-id-1 div.sk-serial {display: flex;flex-direction: column;align-items: center;background-color: white;padding-right: 0.2em;padding-left: 0.2em;position: relative;}#sk-container-id-1 div.sk-item {position: relative;z-index: 1;}#sk-container-id-1 div.sk-parallel {display: flex;align-items: stretch;justify-content: center;background-color: white;position: relative;}#sk-container-id-1 div.sk-item::before, #sk-container-id-1 div.sk-parallel-item::before {content: \"\";position: absolute;border-left: 1px solid gray;box-sizing: border-box;top: 0;bottom: 0;left: 50%;z-index: -1;}#sk-container-id-1 div.sk-parallel-item {display: flex;flex-direction: column;z-index: 1;position: relative;background-color: white;}#sk-container-id-1 div.sk-parallel-item:first-child::after {align-self: flex-end;width: 50%;}#sk-container-id-1 div.sk-parallel-item:last-child::after {align-self: flex-start;width: 50%;}#sk-container-id-1 div.sk-parallel-item:only-child::after {width: 0;}#sk-container-id-1 div.sk-dashed-wrapped {border: 1px dashed gray;margin: 0 0.4em 0.5em 0.4em;box-sizing: border-box;padding-bottom: 0.4em;background-color: white;}#sk-container-id-1 div.sk-label label {font-family: monospace;font-weight: bold;display: inline-block;line-height: 1.2em;}#sk-container-id-1 div.sk-label-container {text-align: center;}#sk-container-id-1 div.sk-container {/* jupyter's `normalize.less` sets `[hidden] { display: none; }` but bootstrap.min.css set `[hidden] { display: none !important; }` so we also need the `!important` here to be able to override the default hidden behavior on the sphinx rendered scikit-learn.org. See: https://github.com/scikit-learn/scikit-learn/issues/21755 */display: inline-block !important;position: relative;}#sk-container-id-1 div.sk-text-repr-fallback {display: none;}</style><div id=\"sk-container-id-1\" class=\"sk-top-container\"><div class=\"sk-text-repr-fallback\"><pre>DecisionTreeClassifier()</pre><b>In a Jupyter environment, please rerun this cell to show the HTML representation or trust the notebook. <br />On GitHub, the HTML representation is unable to render, please try loading this page with nbviewer.org.</b></div><div class=\"sk-container\" hidden><div class=\"sk-item\"><div class=\"sk-estimator sk-toggleable\"><input class=\"sk-toggleable__control sk-hidden--visually\" id=\"sk-estimator-id-1\" type=\"checkbox\" checked><label for=\"sk-estimator-id-1\" class=\"sk-toggleable__label sk-toggleable__label-arrow\">DecisionTreeClassifier</label><div class=\"sk-toggleable__content\"><pre>DecisionTreeClassifier()</pre></div></div></div></div></div>"
            ]
          },
          "metadata": {},
          "execution_count": 11
        }
      ]
    },
    {
      "cell_type": "code",
      "source": [
        "y_pred = arvore.predict(x_test)"
      ],
      "metadata": {
        "id": "bOIAi-Daz8I2"
      },
      "execution_count": null,
      "outputs": []
    },
    {
      "cell_type": "code",
      "source": [
        "np.round(f1_score(y_test,y_pred), 2)"
      ],
      "metadata": {
        "colab": {
          "base_uri": "https://localhost:8080/"
        },
        "id": "XiSorKlF2Yin",
        "outputId": "b32a3a87-b889-4ce0-804a-64be19b99449"
      },
      "execution_count": null,
      "outputs": [
        {
          "output_type": "execute_result",
          "data": {
            "text/plain": [
              "0.82"
            ]
          },
          "metadata": {},
          "execution_count": 13
        }
      ]
    },
    {
      "cell_type": "code",
      "source": [
        "np.round(precision_score(y_test,y_pred), 2)"
      ],
      "metadata": {
        "colab": {
          "base_uri": "https://localhost:8080/"
        },
        "id": "n4Cw0gSy2ve3",
        "outputId": "985f8d25-580f-4b7b-fa1b-68b9d5614675"
      },
      "execution_count": null,
      "outputs": [
        {
          "output_type": "execute_result",
          "data": {
            "text/plain": [
              "0.82"
            ]
          },
          "metadata": {},
          "execution_count": 14
        }
      ]
    },
    {
      "cell_type": "code",
      "source": [
        "np.round(recall_score(y_test,y_pred), 2)"
      ],
      "metadata": {
        "colab": {
          "base_uri": "https://localhost:8080/"
        },
        "id": "_w2z8BDe3A7Y",
        "outputId": "6187a69a-1cee-4df3-8eb6-ceec45dc84c9"
      },
      "execution_count": null,
      "outputs": [
        {
          "output_type": "execute_result",
          "data": {
            "text/plain": [
              "0.81"
            ]
          },
          "metadata": {},
          "execution_count": 15
        }
      ]
    },
    {
      "cell_type": "markdown",
      "source": [
        "---"
      ],
      "metadata": {
        "id": "qUcvjM9Q0780"
      }
    },
    {
      "cell_type": "code",
      "source": [
        "arvore_oversampled = tree.DecisionTreeClassifier()\n",
        "arvore_oversampled.fit(x_over_train, y_over_train)"
      ],
      "metadata": {
        "colab": {
          "base_uri": "https://localhost:8080/",
          "height": 74
        },
        "id": "2U3hQm7z08yt",
        "outputId": "ec992048-3f3e-4d64-ba6f-ce9e3d710500"
      },
      "execution_count": null,
      "outputs": [
        {
          "output_type": "execute_result",
          "data": {
            "text/plain": [
              "DecisionTreeClassifier()"
            ],
            "text/html": [
              "<style>#sk-container-id-2 {color: black;background-color: white;}#sk-container-id-2 pre{padding: 0;}#sk-container-id-2 div.sk-toggleable {background-color: white;}#sk-container-id-2 label.sk-toggleable__label {cursor: pointer;display: block;width: 100%;margin-bottom: 0;padding: 0.3em;box-sizing: border-box;text-align: center;}#sk-container-id-2 label.sk-toggleable__label-arrow:before {content: \"▸\";float: left;margin-right: 0.25em;color: #696969;}#sk-container-id-2 label.sk-toggleable__label-arrow:hover:before {color: black;}#sk-container-id-2 div.sk-estimator:hover label.sk-toggleable__label-arrow:before {color: black;}#sk-container-id-2 div.sk-toggleable__content {max-height: 0;max-width: 0;overflow: hidden;text-align: left;background-color: #f0f8ff;}#sk-container-id-2 div.sk-toggleable__content pre {margin: 0.2em;color: black;border-radius: 0.25em;background-color: #f0f8ff;}#sk-container-id-2 input.sk-toggleable__control:checked~div.sk-toggleable__content {max-height: 200px;max-width: 100%;overflow: auto;}#sk-container-id-2 input.sk-toggleable__control:checked~label.sk-toggleable__label-arrow:before {content: \"▾\";}#sk-container-id-2 div.sk-estimator input.sk-toggleable__control:checked~label.sk-toggleable__label {background-color: #d4ebff;}#sk-container-id-2 div.sk-label input.sk-toggleable__control:checked~label.sk-toggleable__label {background-color: #d4ebff;}#sk-container-id-2 input.sk-hidden--visually {border: 0;clip: rect(1px 1px 1px 1px);clip: rect(1px, 1px, 1px, 1px);height: 1px;margin: -1px;overflow: hidden;padding: 0;position: absolute;width: 1px;}#sk-container-id-2 div.sk-estimator {font-family: monospace;background-color: #f0f8ff;border: 1px dotted black;border-radius: 0.25em;box-sizing: border-box;margin-bottom: 0.5em;}#sk-container-id-2 div.sk-estimator:hover {background-color: #d4ebff;}#sk-container-id-2 div.sk-parallel-item::after {content: \"\";width: 100%;border-bottom: 1px solid gray;flex-grow: 1;}#sk-container-id-2 div.sk-label:hover label.sk-toggleable__label {background-color: #d4ebff;}#sk-container-id-2 div.sk-serial::before {content: \"\";position: absolute;border-left: 1px solid gray;box-sizing: border-box;top: 0;bottom: 0;left: 50%;z-index: 0;}#sk-container-id-2 div.sk-serial {display: flex;flex-direction: column;align-items: center;background-color: white;padding-right: 0.2em;padding-left: 0.2em;position: relative;}#sk-container-id-2 div.sk-item {position: relative;z-index: 1;}#sk-container-id-2 div.sk-parallel {display: flex;align-items: stretch;justify-content: center;background-color: white;position: relative;}#sk-container-id-2 div.sk-item::before, #sk-container-id-2 div.sk-parallel-item::before {content: \"\";position: absolute;border-left: 1px solid gray;box-sizing: border-box;top: 0;bottom: 0;left: 50%;z-index: -1;}#sk-container-id-2 div.sk-parallel-item {display: flex;flex-direction: column;z-index: 1;position: relative;background-color: white;}#sk-container-id-2 div.sk-parallel-item:first-child::after {align-self: flex-end;width: 50%;}#sk-container-id-2 div.sk-parallel-item:last-child::after {align-self: flex-start;width: 50%;}#sk-container-id-2 div.sk-parallel-item:only-child::after {width: 0;}#sk-container-id-2 div.sk-dashed-wrapped {border: 1px dashed gray;margin: 0 0.4em 0.5em 0.4em;box-sizing: border-box;padding-bottom: 0.4em;background-color: white;}#sk-container-id-2 div.sk-label label {font-family: monospace;font-weight: bold;display: inline-block;line-height: 1.2em;}#sk-container-id-2 div.sk-label-container {text-align: center;}#sk-container-id-2 div.sk-container {/* jupyter's `normalize.less` sets `[hidden] { display: none; }` but bootstrap.min.css set `[hidden] { display: none !important; }` so we also need the `!important` here to be able to override the default hidden behavior on the sphinx rendered scikit-learn.org. See: https://github.com/scikit-learn/scikit-learn/issues/21755 */display: inline-block !important;position: relative;}#sk-container-id-2 div.sk-text-repr-fallback {display: none;}</style><div id=\"sk-container-id-2\" class=\"sk-top-container\"><div class=\"sk-text-repr-fallback\"><pre>DecisionTreeClassifier()</pre><b>In a Jupyter environment, please rerun this cell to show the HTML representation or trust the notebook. <br />On GitHub, the HTML representation is unable to render, please try loading this page with nbviewer.org.</b></div><div class=\"sk-container\" hidden><div class=\"sk-item\"><div class=\"sk-estimator sk-toggleable\"><input class=\"sk-toggleable__control sk-hidden--visually\" id=\"sk-estimator-id-2\" type=\"checkbox\" checked><label for=\"sk-estimator-id-2\" class=\"sk-toggleable__label sk-toggleable__label-arrow\">DecisionTreeClassifier</label><div class=\"sk-toggleable__content\"><pre>DecisionTreeClassifier()</pre></div></div></div></div></div>"
            ]
          },
          "metadata": {},
          "execution_count": 34
        }
      ]
    },
    {
      "cell_type": "code",
      "source": [
        "y_over_pred = arvore_oversampled.predict(x_over_test)"
      ],
      "metadata": {
        "id": "pfpK4jZp1g1d"
      },
      "execution_count": null,
      "outputs": []
    },
    {
      "cell_type": "code",
      "source": [
        "np.round(f1_score(y_over_test,y_over_pred), 2)"
      ],
      "metadata": {
        "colab": {
          "base_uri": "https://localhost:8080/"
        },
        "id": "sMkPXWsu1o0N",
        "outputId": "0bc77372-65bb-47b2-9e8c-c4a14c506a2e"
      },
      "execution_count": null,
      "outputs": [
        {
          "output_type": "execute_result",
          "data": {
            "text/plain": [
              "0.98"
            ]
          },
          "metadata": {},
          "execution_count": 36
        }
      ]
    },
    {
      "cell_type": "code",
      "source": [
        "np.round(precision_score(y_over_test,y_over_pred), 2)"
      ],
      "metadata": {
        "colab": {
          "base_uri": "https://localhost:8080/"
        },
        "id": "xFvrtfzl1pPN",
        "outputId": "df46a129-b085-4879-b987-3bc5502e66bd"
      },
      "execution_count": null,
      "outputs": [
        {
          "output_type": "execute_result",
          "data": {
            "text/plain": [
              "0.96"
            ]
          },
          "metadata": {},
          "execution_count": 37
        }
      ]
    },
    {
      "cell_type": "code",
      "source": [
        "np.round(recall_score(y_over_test,y_over_pred), 2)"
      ],
      "metadata": {
        "colab": {
          "base_uri": "https://localhost:8080/"
        },
        "id": "Cozc5Nxa1pe9",
        "outputId": "718af608-dee8-4069-ed39-11f38867df3b"
      },
      "execution_count": null,
      "outputs": [
        {
          "output_type": "execute_result",
          "data": {
            "text/plain": [
              "0.99"
            ]
          },
          "metadata": {},
          "execution_count": 38
        }
      ]
    },
    {
      "cell_type": "markdown",
      "source": [
        "---"
      ],
      "metadata": {
        "id": "n5ptj9F72X9W"
      }
    },
    {
      "cell_type": "code",
      "source": [
        "arvore_undersampled = tree.DecisionTreeClassifier()\n",
        "arvore_undersampled.fit(x_under_train, y_under_train)"
      ],
      "metadata": {
        "colab": {
          "base_uri": "https://localhost:8080/",
          "height": 74
        },
        "id": "1tqeF36a2apN",
        "outputId": "ae6d25c5-da02-4051-fd38-83e24ce3f9f6"
      },
      "execution_count": null,
      "outputs": [
        {
          "output_type": "execute_result",
          "data": {
            "text/plain": [
              "DecisionTreeClassifier()"
            ],
            "text/html": [
              "<style>#sk-container-id-3 {color: black;background-color: white;}#sk-container-id-3 pre{padding: 0;}#sk-container-id-3 div.sk-toggleable {background-color: white;}#sk-container-id-3 label.sk-toggleable__label {cursor: pointer;display: block;width: 100%;margin-bottom: 0;padding: 0.3em;box-sizing: border-box;text-align: center;}#sk-container-id-3 label.sk-toggleable__label-arrow:before {content: \"▸\";float: left;margin-right: 0.25em;color: #696969;}#sk-container-id-3 label.sk-toggleable__label-arrow:hover:before {color: black;}#sk-container-id-3 div.sk-estimator:hover label.sk-toggleable__label-arrow:before {color: black;}#sk-container-id-3 div.sk-toggleable__content {max-height: 0;max-width: 0;overflow: hidden;text-align: left;background-color: #f0f8ff;}#sk-container-id-3 div.sk-toggleable__content pre {margin: 0.2em;color: black;border-radius: 0.25em;background-color: #f0f8ff;}#sk-container-id-3 input.sk-toggleable__control:checked~div.sk-toggleable__content {max-height: 200px;max-width: 100%;overflow: auto;}#sk-container-id-3 input.sk-toggleable__control:checked~label.sk-toggleable__label-arrow:before {content: \"▾\";}#sk-container-id-3 div.sk-estimator input.sk-toggleable__control:checked~label.sk-toggleable__label {background-color: #d4ebff;}#sk-container-id-3 div.sk-label input.sk-toggleable__control:checked~label.sk-toggleable__label {background-color: #d4ebff;}#sk-container-id-3 input.sk-hidden--visually {border: 0;clip: rect(1px 1px 1px 1px);clip: rect(1px, 1px, 1px, 1px);height: 1px;margin: -1px;overflow: hidden;padding: 0;position: absolute;width: 1px;}#sk-container-id-3 div.sk-estimator {font-family: monospace;background-color: #f0f8ff;border: 1px dotted black;border-radius: 0.25em;box-sizing: border-box;margin-bottom: 0.5em;}#sk-container-id-3 div.sk-estimator:hover {background-color: #d4ebff;}#sk-container-id-3 div.sk-parallel-item::after {content: \"\";width: 100%;border-bottom: 1px solid gray;flex-grow: 1;}#sk-container-id-3 div.sk-label:hover label.sk-toggleable__label {background-color: #d4ebff;}#sk-container-id-3 div.sk-serial::before {content: \"\";position: absolute;border-left: 1px solid gray;box-sizing: border-box;top: 0;bottom: 0;left: 50%;z-index: 0;}#sk-container-id-3 div.sk-serial {display: flex;flex-direction: column;align-items: center;background-color: white;padding-right: 0.2em;padding-left: 0.2em;position: relative;}#sk-container-id-3 div.sk-item {position: relative;z-index: 1;}#sk-container-id-3 div.sk-parallel {display: flex;align-items: stretch;justify-content: center;background-color: white;position: relative;}#sk-container-id-3 div.sk-item::before, #sk-container-id-3 div.sk-parallel-item::before {content: \"\";position: absolute;border-left: 1px solid gray;box-sizing: border-box;top: 0;bottom: 0;left: 50%;z-index: -1;}#sk-container-id-3 div.sk-parallel-item {display: flex;flex-direction: column;z-index: 1;position: relative;background-color: white;}#sk-container-id-3 div.sk-parallel-item:first-child::after {align-self: flex-end;width: 50%;}#sk-container-id-3 div.sk-parallel-item:last-child::after {align-self: flex-start;width: 50%;}#sk-container-id-3 div.sk-parallel-item:only-child::after {width: 0;}#sk-container-id-3 div.sk-dashed-wrapped {border: 1px dashed gray;margin: 0 0.4em 0.5em 0.4em;box-sizing: border-box;padding-bottom: 0.4em;background-color: white;}#sk-container-id-3 div.sk-label label {font-family: monospace;font-weight: bold;display: inline-block;line-height: 1.2em;}#sk-container-id-3 div.sk-label-container {text-align: center;}#sk-container-id-3 div.sk-container {/* jupyter's `normalize.less` sets `[hidden] { display: none; }` but bootstrap.min.css set `[hidden] { display: none !important; }` so we also need the `!important` here to be able to override the default hidden behavior on the sphinx rendered scikit-learn.org. See: https://github.com/scikit-learn/scikit-learn/issues/21755 */display: inline-block !important;position: relative;}#sk-container-id-3 div.sk-text-repr-fallback {display: none;}</style><div id=\"sk-container-id-3\" class=\"sk-top-container\"><div class=\"sk-text-repr-fallback\"><pre>DecisionTreeClassifier()</pre><b>In a Jupyter environment, please rerun this cell to show the HTML representation or trust the notebook. <br />On GitHub, the HTML representation is unable to render, please try loading this page with nbviewer.org.</b></div><div class=\"sk-container\" hidden><div class=\"sk-item\"><div class=\"sk-estimator sk-toggleable\"><input class=\"sk-toggleable__control sk-hidden--visually\" id=\"sk-estimator-id-3\" type=\"checkbox\" checked><label for=\"sk-estimator-id-3\" class=\"sk-toggleable__label sk-toggleable__label-arrow\">DecisionTreeClassifier</label><div class=\"sk-toggleable__content\"><pre>DecisionTreeClassifier()</pre></div></div></div></div></div>"
            ]
          },
          "metadata": {},
          "execution_count": 42
        }
      ]
    },
    {
      "cell_type": "code",
      "source": [
        "y_under_pred = arvore_undersampled.predict(x_under_test)"
      ],
      "metadata": {
        "id": "k4ek_FMS2l-d"
      },
      "execution_count": null,
      "outputs": []
    },
    {
      "cell_type": "code",
      "source": [
        "np.round(f1_score(y_under_test,y_under_pred), 2)"
      ],
      "metadata": {
        "colab": {
          "base_uri": "https://localhost:8080/"
        },
        "id": "a8KHC6NZ2uGd",
        "outputId": "6dd9cd81-7ad8-47b7-e4e1-a0ef8750a8c4"
      },
      "execution_count": null,
      "outputs": [
        {
          "output_type": "execute_result",
          "data": {
            "text/plain": [
              "0.9"
            ]
          },
          "metadata": {},
          "execution_count": 44
        }
      ]
    },
    {
      "cell_type": "code",
      "source": [
        "np.round(precision_score(y_under_test,y_under_pred), 2)"
      ],
      "metadata": {
        "colab": {
          "base_uri": "https://localhost:8080/"
        },
        "id": "LDPPkY3e2wZF",
        "outputId": "b50bdaff-2609-436f-af0a-acb07619cc73"
      },
      "execution_count": null,
      "outputs": [
        {
          "output_type": "execute_result",
          "data": {
            "text/plain": [
              "0.9"
            ]
          },
          "metadata": {},
          "execution_count": 45
        }
      ]
    },
    {
      "cell_type": "code",
      "source": [
        "np.round(recall_score(y_under_test,y_under_pred), 2)"
      ],
      "metadata": {
        "colab": {
          "base_uri": "https://localhost:8080/"
        },
        "id": "B18RRjXt2xS9",
        "outputId": "79a898c2-f206-416c-9376-c834802164d4"
      },
      "execution_count": null,
      "outputs": [
        {
          "output_type": "execute_result",
          "data": {
            "text/plain": [
              "0.9"
            ]
          },
          "metadata": {},
          "execution_count": 46
        }
      ]
    },
    {
      "cell_type": "markdown",
      "source": [
        "##Gráficos"
      ],
      "metadata": {
        "id": "3ASDFrO71Wo7"
      }
    },
    {
      "cell_type": "code",
      "source": [
        "disp = ConfusionMatrixDisplay(confusion_matrix = confusion_matrix(y_test,y_pred))\n",
        "disp.plot()\n",
        "plt.show()"
      ],
      "metadata": {
        "colab": {
          "base_uri": "https://localhost:8080/",
          "height": 449
        },
        "id": "xAqHu3211Yg1",
        "outputId": "4e22710e-1065-46cc-e558-45f5a3ddea66"
      },
      "execution_count": null,
      "outputs": [
        {
          "output_type": "display_data",
          "data": {
            "text/plain": [
              "<Figure size 640x480 with 2 Axes>"
            ],
            "image/png": "[encoded data removed]"
          },
          "metadata": {}
        }
      ]
    },
    {
      "cell_type": "code",
      "source": [
        "disp_over = ConfusionMatrixDisplay(confusion_matrix = confusion_matrix(y_over_test,y_over_pred))\n",
        "disp_over.plot()\n",
        "plt.show()"
      ],
      "metadata": {
        "id": "ZgBipXAh11lF",
        "colab": {
          "base_uri": "https://localhost:8080/",
          "height": 449
        },
        "outputId": "363669b9-beb3-441c-c5d0-13674e78fa87"
      },
      "execution_count": null,
      "outputs": [
        {
          "output_type": "display_data",
          "data": {
            "text/plain": [
              "<Figure size 640x480 with 2 Axes>"
            ],
            "image/png": "[encoded data removed]"
          },
          "metadata": {}
        }
      ]
    },
    {
      "cell_type": "code",
      "source": [
        "disp_under = ConfusionMatrixDisplay(confusion_matrix = confusion_matrix(y_under_test,y_under_pred))\n",
        "disp_under.plot()\n",
        "plt.show()"
      ],
      "metadata": {
        "colab": {
          "base_uri": "https://localhost:8080/",
          "height": 449
        },
        "id": "xDcHq9t227Rm",
        "outputId": "0a97ae14-e5d8-40f8-a3f7-d3986bf2f0ac"
      },
      "execution_count": null,
      "outputs": [
        {
          "output_type": "display_data",
          "data": {
            "text/plain": [
              "<Figure size 640x480 with 2 Axes>"
            ],
            "image/png": "[encoded data removed]"
          },
          "metadata": {}
        }
      ]
    }
  ]
}